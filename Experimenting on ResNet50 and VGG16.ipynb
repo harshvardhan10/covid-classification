{
 "cells": [
  {
   "cell_type": "code",
   "execution_count": null,
   "id": "97a8c751",
   "metadata": {},
   "outputs": [],
   "source": [
    "# pip install tensorflow\n",
    "# pip install torchxrayvision"
   ]
  },
  {
   "cell_type": "code",
   "execution_count": 1,
   "id": "15bb2e0d",
   "metadata": {},
   "outputs": [],
   "source": [
    "#Importing Relevant Libraries\n",
    "\n",
    "import tensorflow as tf \n",
    "from tensorflow.keras.preprocessing.image import ImageDataGenerator \n",
    "from tensorflow.keras import layers \n",
    "from tensorflow.keras import Model\n",
    "from imutils import paths\n",
    "import cv2\n",
    "import os\n",
    "import numpy as np\n",
    "import matplotlib.pyplot as plt"
   ]
  },
  {
   "cell_type": "markdown",
   "id": "be7dfb11",
   "metadata": {},
   "source": [
    "## Using ResNet50"
   ]
  },
  {
   "cell_type": "markdown",
   "id": "3def44da",
   "metadata": {},
   "source": [
    "### Data Augmentation"
   ]
  },
  {
   "cell_type": "code",
   "execution_count": null,
   "id": "c8307164",
   "metadata": {},
   "outputs": [],
   "source": [
    "train_datagen = ImageDataGenerator(rescale = 1./255.,rotation_range = 40, width_shift_range = 0.2, height_shift_range = 0.2, shear_range = 0.2, zoom_range = 0.2, horizontal_flip = True)\n",
    "# Note that the validation data should not be augmented!\n",
    "test_datagen = ImageDataGenerator( rescale = 1.0/255. )"
   ]
  },
  {
   "cell_type": "code",
   "execution_count": null,
   "id": "f9f692d3",
   "metadata": {},
   "outputs": [],
   "source": [
    "# Flow training images in batches of 20 using train_datagen generator\n",
    "train_generator = train_datagen.flow_from_directory(\"./Train\", batch_size = 20, class_mode = 'binary', target_size = (224, 224))\n",
    "\n",
    "# Flow validation images in batches of 20 using test_datagen generator\n",
    "validation_generator = test_datagen.flow_from_directory(\"./Validation\",  batch_size = 20, class_mode = 'binary', target_size = (224, 224))"
   ]
  },
  {
   "cell_type": "code",
   "execution_count": null,
   "id": "5034bdd7",
   "metadata": {},
   "outputs": [],
   "source": [
    "from tensorflow.keras.applications import ResNet50\n",
    "from keras.models import Sequential\n",
    "from keras.layers import Dense, Flatten, GlobalAveragePooling2D\n",
    "\n",
    "base_model = ResNet50(input_shape=(224, 224,3), include_top=False, weights=\"imagenet\")\n",
    "for layer in base_model.layers:\n",
    "    layer.trainable = False\n",
    "\n",
    "base_model = Sequential()\n",
    "base_model.add(ResNet50(include_top=False, weights='imagenet', pooling='max'))\n",
    "base_model.add(Dense(1, activation='sigmoid'))\n",
    "base_model.compile(optimizer = tf.keras.optimizers.SGD(learning_rate=0.0001), loss = 'binary_crossentropy', metrics = ['acc'])\n",
    "resnet_history = base_model.fit(train_generator, validation_data = validation_generator, steps_per_epoch = 10, epochs = 10)"
   ]
  },
  {
   "cell_type": "markdown",
   "id": "f4bf90a7",
   "metadata": {},
   "source": [
    "## Using VGG16"
   ]
  },
  {
   "cell_type": "code",
   "execution_count": 2,
   "id": "2b8a8b00",
   "metadata": {},
   "outputs": [
    {
     "name": "stdout",
     "output_type": "stream",
     "text": [
      "[INFO] loading images...\n"
     ]
    }
   ],
   "source": [
    "# grab the list of images in our dataset directory, then initialize\n",
    "# the list of data (i.e., images) and class images\n",
    "print(\"[INFO] loading images...\")\n",
    "imagePaths = list(paths.list_images(\"./Dataset\"))\n",
    "data = []\n",
    "labels = []\n",
    "# loop over the image paths\n",
    "for imagePath in imagePaths:\n",
    "    # extract the class label from the filename\n",
    "    label = imagePath.split(os.path.sep)[-2]\n",
    "    # load the image, swap color channels, and resize it to be a fixed\n",
    "    # 224x224 pixels while ignoring aspect ratio\n",
    "    image = cv2.imread(imagePath)\n",
    "    image = cv2.cvtColor(image, cv2.COLOR_BGR2RGB)\n",
    "    image = cv2.resize(image, (224, 224))\n",
    "    # update the data and labels lists, respectively\n",
    "    data.append(image)\n",
    "    labels.append(label)\n",
    "# convert the data and labels to NumPy arrays while scaling the pixel\n",
    "# intensities to the range [0, 1]\n",
    "data = np.array(data) / 255.0\n",
    "labels = np.array(labels)"
   ]
  },
  {
   "cell_type": "code",
   "execution_count": 3,
   "id": "4e3d2cd3",
   "metadata": {},
   "outputs": [],
   "source": [
    "# initialize the initial learning rate, number of epochs to train for,\n",
    "# and batch size\n",
    "INIT_LR = 5*1e-2\n",
    "EPOCHS = 100\n",
    "BS = 13"
   ]
  },
  {
   "cell_type": "code",
   "execution_count": 4,
   "id": "379d2c25",
   "metadata": {},
   "outputs": [],
   "source": [
    "from sklearn.preprocessing import LabelBinarizer\n",
    "from sklearn.model_selection import train_test_split\n",
    "from tensorflow.keras.utils import to_categorical\n",
    "\n",
    "# Train/form one-hot encoding on the labels\n",
    "lb = LabelBinarizer()\n",
    "labels = lb.fit_transform(labels)\n",
    "labels = to_categorical(labels)\n",
    "# partition the data into training and testing splits using 60% of\n",
    "# the data for training and the remaining 40% for testing\n",
    "(trainX, testX, trainY, testY) = train_test_split(data, labels, test_size=0.3, stratify=labels, random_state=42)\n",
    "# initialize the training data augmentation object\n",
    "trainAug = ImageDataGenerator(width_shift_range = 0.2, height_shift_range = 0.2, zoom_range = 0.2, horizontal_flip = True, fill_mode=\"nearest\")"
   ]
  },
  {
   "cell_type": "code",
   "execution_count": 5,
   "id": "752942cb",
   "metadata": {},
   "outputs": [],
   "source": [
    "from tensorflow.keras.layers import Activation, Dropout,Dense, Flatten, BatchNormalization, Conv2D, MaxPooling2D, Lambda, Input, AveragePooling2D\n",
    "from tensorflow.keras.applications import VGG16\n",
    "from tensorflow.keras.models import Model, Sequential\n",
    "\n",
    "# load the VGG16 network, ensuring the head FC layer sets are left\n",
    "# off\n",
    "baseModel = VGG16(weights=\"imagenet\", include_top=False, input_tensor=Input(shape=(224, 224, 3)))\n",
    "# construct the head of the model that will be placed on top of the\n",
    "# the base model\n",
    "headModel = baseModel.output\n",
    "headModel = AveragePooling2D(pool_size=(4, 4))(headModel)\n",
    "headModel = Flatten(name=\"flatten\")(headModel)\n",
    "headModel = Dense(128, activation=\"relu\")(headModel)\n",
    "headModel = Dropout(0.6)(headModel)\n",
    "headModel = Dense(2, activation=\"softmax\")(headModel)\n",
    "# place the head FC model on top of the base model (this will become\n",
    "# the actual model we will train)\n",
    "model = Model(inputs=baseModel.input, outputs=headModel)\n",
    "# loop over all layers in the base model and freeze them so they will\n",
    "# *not* be updated during the first training process\n",
    "for layer in baseModel.layers:\n",
    "    layer.trainable = False"
   ]
  },
  {
   "cell_type": "code",
   "execution_count": null,
   "id": "c8954fbe",
   "metadata": {},
   "outputs": [
    {
     "name": "stdout",
     "output_type": "stream",
     "text": [
      "[INFO] compiling model...\n",
      "[INFO] training head...\n"
     ]
    },
    {
     "name": "stderr",
     "output_type": "stream",
     "text": [
      "C:\\Users\\Harshvardhan Agarwal\\AppData\\Local\\Packages\\PythonSoftwareFoundation.Python.3.9_qbz5n2kfra8p0\\LocalCache\\local-packages\\Python39\\site-packages\\keras\\engine\\training.py:1972: UserWarning: `Model.fit_generator` is deprecated and will be removed in a future version. Please use `Model.fit`, which supports generators.\n",
      "  warnings.warn('`Model.fit_generator` is deprecated and '\n"
     ]
    },
    {
     "name": "stdout",
     "output_type": "stream",
     "text": [
      "Epoch 1/100\n",
      "28/28 [==============================] - 175s 6s/step - loss: 2.1507 - accuracy: 0.5817 - val_loss: 0.6592 - val_accuracy: 0.6398\n",
      "Epoch 2/100\n",
      "28/28 [==============================] - 196s 7s/step - loss: 0.6713 - accuracy: 0.6233 - val_loss: 0.6536 - val_accuracy: 0.6398\n",
      "Epoch 3/100\n",
      "28/28 [==============================] - 209s 8s/step - loss: 0.6632 - accuracy: 0.6260 - val_loss: 0.6553 - val_accuracy: 0.6398\n",
      "Epoch 4/100\n",
      "28/28 [==============================] - 243s 9s/step - loss: 0.6544 - accuracy: 0.6456 - val_loss: 0.6536 - val_accuracy: 0.6398\n",
      "Epoch 5/100\n",
      "28/28 [==============================] - 202s 7s/step - loss: 0.6527 - accuracy: 0.6427 - val_loss: 0.6537 - val_accuracy: 0.6398\n",
      "Epoch 6/100\n",
      "28/28 [==============================] - 167s 6s/step - loss: 0.6566 - accuracy: 0.6371 - val_loss: 0.6536 - val_accuracy: 0.6398\n",
      "Epoch 7/100\n",
      "28/28 [==============================] - 173s 6s/step - loss: 0.6525 - accuracy: 0.6454 - val_loss: 0.6536 - val_accuracy: 0.6398\n",
      "Epoch 8/100\n",
      "28/28 [==============================] - 204s 7s/step - loss: 0.6590 - accuracy: 0.6399 - val_loss: 0.6563 - val_accuracy: 0.6398\n",
      "Epoch 9/100\n",
      "28/28 [==============================] - 208s 7s/step - loss: 0.6601 - accuracy: 0.6427 - val_loss: 0.6583 - val_accuracy: 0.6398\n",
      "Epoch 10/100\n",
      "28/28 [==============================] - 199s 7s/step - loss: 0.6575 - accuracy: 0.6399 - val_loss: 0.6537 - val_accuracy: 0.6398\n",
      "Epoch 11/100\n",
      "28/28 [==============================] - 226s 8s/step - loss: 0.6553 - accuracy: 0.6399 - val_loss: 0.6538 - val_accuracy: 0.6398\n",
      "Epoch 12/100\n",
      "28/28 [==============================] - 211s 8s/step - loss: 0.6600 - accuracy: 0.6316 - val_loss: 0.6543 - val_accuracy: 0.6398\n",
      "Epoch 13/100\n",
      "28/28 [==============================] - 201s 7s/step - loss: 0.6614 - accuracy: 0.6288 - val_loss: 0.6537 - val_accuracy: 0.6398\n",
      "Epoch 14/100\n",
      "28/28 [==============================] - 170s 6s/step - loss: 0.6518 - accuracy: 0.6454 - val_loss: 0.6555 - val_accuracy: 0.6398\n",
      "Epoch 15/100\n",
      "28/28 [==============================] - ETA: 0s - loss: 0.6524 - accuracy: 0.6454"
     ]
    }
   ],
   "source": [
    "from tensorflow.keras.optimizers import Adam\n",
    "\n",
    "# compile our model\n",
    "print(\"[INFO] compiling model...\")\n",
    "opt = Adam(learning_rate=INIT_LR, decay=INIT_LR / EPOCHS)\n",
    "model.compile(loss=\"categorical_crossentropy\", optimizer=opt, metrics=[\"accuracy\"])\n",
    "\n",
    "# train the head of the network\n",
    "print(\"[INFO] training head...\")\n",
    "H = model.fit_generator(\n",
    "    trainAug.flow(trainX, trainY, batch_size=BS),\n",
    "    steps_per_epoch=len(trainX) // BS,\n",
    "    validation_data=(testX, testY),\n",
    "    validation_steps=len(testX) // BS,\n",
    "    epochs=EPOCHS)"
   ]
  },
  {
   "cell_type": "code",
   "execution_count": null,
   "id": "3048a207",
   "metadata": {},
   "outputs": [],
   "source": []
  }
 ],
 "metadata": {
  "kernelspec": {
   "display_name": "Python 3 (ipykernel)",
   "language": "python",
   "name": "python3"
  },
  "language_info": {
   "codemirror_mode": {
    "name": "ipython",
    "version": 3
   },
   "file_extension": ".py",
   "mimetype": "text/x-python",
   "name": "python",
   "nbconvert_exporter": "python",
   "pygments_lexer": "ipython3",
   "version": "3.9.9"
  }
 },
 "nbformat": 4,
 "nbformat_minor": 5
}
