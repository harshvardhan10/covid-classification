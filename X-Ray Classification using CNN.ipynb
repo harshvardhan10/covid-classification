{
  "nbformat": 4,
  "nbformat_minor": 5,
  "metadata": {
    "kernelspec": {
      "display_name": "Python 3 (ipykernel)",
      "language": "python",
      "name": "python3"
    },
    "language_info": {
      "codemirror_mode": {
        "name": "ipython",
        "version": 3
      },
      "file_extension": ".py",
      "mimetype": "text/x-python",
      "name": "python",
      "nbconvert_exporter": "python",
      "pygments_lexer": "ipython3",
      "version": "3.9.9"
    },
    "colab": {
      "name": "X-Ray Classification using CNN.ipynb",
      "provenance": [],
      "collapsed_sections": []
    }
  },
  "cells": [
    {
      "cell_type": "code",
      "metadata": {
        "colab": {
          "base_uri": "https://localhost:8080/"
        },
        "id": "6lGx8L8_nW_Y",
        "outputId": "ae496891-d316-4e9b-dc8e-e109f37c8067"
      },
      "source": [
        "from google.colab import drive\n",
        "drive.mount('/content/drive')"
      ],
      "id": "6lGx8L8_nW_Y",
      "execution_count": 1,
      "outputs": [
        {
          "output_type": "stream",
          "name": "stdout",
          "text": [
            "Mounted at /content/drive\n"
          ]
        }
      ]
    },
    {
      "cell_type": "code",
      "metadata": {
        "id": "NR5cOGaHnqh7"
      },
      "source": [
        "!unzip \"/content/drive/MyDrive/Projects/COVID detection using CNN/Dataset.zip\" -d \"/content/drive/MyDrive/Projects/COVID detection using CNN/Dataset\""
      ],
      "id": "NR5cOGaHnqh7",
      "execution_count": null,
      "outputs": []
    },
    {
      "cell_type": "code",
      "metadata": {
        "id": "7d1efbc8"
      },
      "source": [
        "#importing necessary libraries\n",
        "import warnings\n",
        "warnings.filterwarnings(\"ignore\")\n",
        "import numpy as np\n",
        "import matplotlib.pyplot as plt\n",
        "import keras\n",
        "from keras.layers import Dense, Conv2D, MaxPool2D, Dropout, Flatten\n",
        "from keras.models import Sequential\n",
        "from keras.preprocessing import image"
      ],
      "id": "7d1efbc8",
      "execution_count": 1,
      "outputs": []
    },
    {
      "cell_type": "code",
      "metadata": {
        "colab": {
          "base_uri": "https://localhost:8080/"
        },
        "id": "osLAT9kToXHt",
        "outputId": "3a26385c-ad4c-4705-e0c9-3fae07e08962"
      },
      "source": [
        "#Data Augmentation\n",
        "train_datagen = image.ImageDataGenerator(rescale=1/255, horizontal_flip=True, zoom_range=0.2)\n",
        "train_data = train_datagen.flow_from_directory(directory=\"/content/drive/MyDrive/Projects/COVID detection using CNN/Dataset/Train\", \n",
        "                                               target_size=(256, 256), batch_size=16, class_mode='binary')\n"
      ],
      "id": "osLAT9kToXHt",
      "execution_count": 2,
      "outputs": [
        {
          "output_type": "stream",
          "name": "stdout",
          "text": [
            "Found 470 images belonging to 2 classes.\n"
          ]
        }
      ]
    },
    {
      "cell_type": "code",
      "metadata": {
        "colab": {
          "base_uri": "https://localhost:8080/"
        },
        "id": "cYgfSE3ptZsr",
        "outputId": "5f9389db-19eb-4efd-98fa-b76291dbc169"
      },
      "source": [
        "train_data.class_indices"
      ],
      "id": "cYgfSE3ptZsr",
      "execution_count": 3,
      "outputs": [
        {
          "output_type": "execute_result",
          "data": {
            "text/plain": [
              "{'COVID': 0, 'Non-COVID': 1}"
            ]
          },
          "metadata": {},
          "execution_count": 3
        }
      ]
    },
    {
      "cell_type": "code",
      "metadata": {
        "colab": {
          "base_uri": "https://localhost:8080/"
        },
        "id": "8tmTzfZvtryd",
        "outputId": "f4cf7eba-ef9e-4c73-df5e-403633711f76"
      },
      "source": [
        "val_datagen = image.ImageDataGenerator(rescale=1/255)\n",
        "val_data = train_datagen.flow_from_directory(directory=\"/content/drive/MyDrive/Projects/COVID detection using CNN/Dataset/Validation\", \n",
        "                                               target_size=(256, 256), batch_size=16, class_mode='binary')"
      ],
      "id": "8tmTzfZvtryd",
      "execution_count": 4,
      "outputs": [
        {
          "output_type": "stream",
          "name": "stdout",
          "text": [
            "Found 65 images belonging to 2 classes.\n"
          ]
        }
      ]
    },
    {
      "cell_type": "code",
      "metadata": {
        "colab": {
          "base_uri": "https://localhost:8080/"
        },
        "id": "VCfHkDUiufG2",
        "outputId": "d4cfa2b6-91e0-4f16-90c7-438125a9baea"
      },
      "source": [
        "val_data.class_indices"
      ],
      "id": "VCfHkDUiufG2",
      "execution_count": 5,
      "outputs": [
        {
          "output_type": "execute_result",
          "data": {
            "text/plain": [
              "{'COVID': 0, 'Non-COVID': 1}"
            ]
          },
          "metadata": {},
          "execution_count": 5
        }
      ]
    },
    {
      "cell_type": "code",
      "metadata": {
        "id": "kUCeqFmjulW0"
      },
      "source": [
        "model = Sequential()\n",
        "model.add(Conv2D(filters=32, kernel_size=(3,3), activation='relu', input_shape=(256, 256, 3)))\n",
        "model.add(Conv2D(filters=64, kernel_size=(3,3), activation='relu'))\n",
        "model.add(MaxPool2D())\n",
        "model.add(Dropout(0.25))\n",
        "\n",
        "model.add(Conv2D(filters=64, kernel_size=(3,3), activation='relu'))\n",
        "model.add(MaxPool2D())\n",
        "model.add(Dropout(0.25))\n",
        "\n",
        "model.add(Conv2D(filters=128, kernel_size=(3,3), activation='relu'))\n",
        "model.add(MaxPool2D())\n",
        "model.add(Dropout(0.25))\n",
        "\n",
        "model.add(Flatten())\n",
        "model.add(Dense(64, activation='relu'))\n",
        "model.add(Dropout(0.5))\n",
        "model.add(Dense(1, activation='sigmoid'))\n"
      ],
      "id": "kUCeqFmjulW0",
      "execution_count": 6,
      "outputs": []
    },
    {
      "cell_type": "code",
      "metadata": {
        "id": "a1el-mWyv7__"
      },
      "source": [
        "model.compile(loss='binary_crossentropy', optimizer='adam', metrics=['accuracy'])"
      ],
      "id": "a1el-mWyv7__",
      "execution_count": 7,
      "outputs": []
    },
    {
      "cell_type": "code",
      "metadata": {
        "colab": {
          "base_uri": "https://localhost:8080/"
        },
        "id": "LqwFgbi7v8En",
        "outputId": "06165f8b-5266-4334-a846-350bf171de42"
      },
      "source": [
        "model.summary()"
      ],
      "id": "LqwFgbi7v8En",
      "execution_count": 8,
      "outputs": [
        {
          "output_type": "stream",
          "name": "stdout",
          "text": [
            "Model: \"sequential\"\n",
            "_________________________________________________________________\n",
            " Layer (type)                Output Shape              Param #   \n",
            "=================================================================\n",
            " conv2d (Conv2D)             (None, 254, 254, 32)      896       \n",
            "                                                                 \n",
            " conv2d_1 (Conv2D)           (None, 252, 252, 64)      18496     \n",
            "                                                                 \n",
            " max_pooling2d (MaxPooling2D  (None, 126, 126, 64)     0         \n",
            " )                                                               \n",
            "                                                                 \n",
            " dropout (Dropout)           (None, 126, 126, 64)      0         \n",
            "                                                                 \n",
            " conv2d_2 (Conv2D)           (None, 124, 124, 64)      36928     \n",
            "                                                                 \n",
            " max_pooling2d_1 (MaxPooling  (None, 62, 62, 64)       0         \n",
            " 2D)                                                             \n",
            "                                                                 \n",
            " dropout_1 (Dropout)         (None, 62, 62, 64)        0         \n",
            "                                                                 \n",
            " conv2d_3 (Conv2D)           (None, 60, 60, 128)       73856     \n",
            "                                                                 \n",
            " max_pooling2d_2 (MaxPooling  (None, 30, 30, 128)      0         \n",
            " 2D)                                                             \n",
            "                                                                 \n",
            " dropout_2 (Dropout)         (None, 30, 30, 128)       0         \n",
            "                                                                 \n",
            " flatten (Flatten)           (None, 115200)            0         \n",
            "                                                                 \n",
            " dense (Dense)               (None, 64)                7372864   \n",
            "                                                                 \n",
            " dropout_3 (Dropout)         (None, 64)                0         \n",
            "                                                                 \n",
            " dense_1 (Dense)             (None, 1)                 65        \n",
            "                                                                 \n",
            "=================================================================\n",
            "Total params: 7,503,105\n",
            "Trainable params: 7,503,105\n",
            "Non-trainable params: 0\n",
            "_________________________________________________________________\n"
          ]
        }
      ]
    },
    {
      "cell_type": "code",
      "metadata": {
        "colab": {
          "base_uri": "https://localhost:8080/"
        },
        "id": "i-1K_-kyv8HF",
        "outputId": "07f4a1ed-8295-4fcb-e58a-d2f68a0a438e"
      },
      "source": [
        "model.fit_generator(train_data, steps_per_epoch=8, epochs=10, validation_data=val_data)"
      ],
      "id": "i-1K_-kyv8HF",
      "execution_count": 10,
      "outputs": [
        {
          "output_type": "stream",
          "name": "stdout",
          "text": [
            "Epoch 1/10\n",
            "8/8 [==============================] - 56s 7s/step - loss: 1.3805 - accuracy: 0.6250 - val_loss: 0.6436 - val_accuracy: 0.6462\n",
            "Epoch 2/10\n",
            "8/8 [==============================] - 50s 6s/step - loss: 0.6934 - accuracy: 0.6780 - val_loss: 0.6903 - val_accuracy: 0.6462\n",
            "Epoch 3/10\n",
            "8/8 [==============================] - 53s 7s/step - loss: 0.6942 - accuracy: 0.6250 - val_loss: 0.6583 - val_accuracy: 0.6462\n",
            "Epoch 4/10\n",
            "8/8 [==============================] - 53s 7s/step - loss: 0.6430 - accuracy: 0.6797 - val_loss: 0.6434 - val_accuracy: 0.6462\n",
            "Epoch 5/10\n",
            "8/8 [==============================] - 54s 7s/step - loss: 0.6903 - accuracy: 0.6172 - val_loss: 0.6853 - val_accuracy: 0.6462\n",
            "Epoch 6/10\n",
            "8/8 [==============================] - 54s 7s/step - loss: 0.6765 - accuracy: 0.6406 - val_loss: 0.6841 - val_accuracy: 0.6462\n",
            "Epoch 7/10\n",
            "8/8 [==============================] - 54s 7s/step - loss: 0.6823 - accuracy: 0.5938 - val_loss: 0.6656 - val_accuracy: 0.6462\n",
            "Epoch 8/10\n",
            "8/8 [==============================] - 50s 6s/step - loss: 0.6796 - accuracy: 0.5932 - val_loss: 0.6530 - val_accuracy: 0.6462\n",
            "Epoch 9/10\n",
            "8/8 [==============================] - 54s 7s/step - loss: 0.6590 - accuracy: 0.6250 - val_loss: 0.6510 - val_accuracy: 0.6462\n",
            "Epoch 10/10\n",
            "8/8 [==============================] - 53s 7s/step - loss: 0.6908 - accuracy: 0.5938 - val_loss: 0.6780 - val_accuracy: 0.6462\n"
          ]
        },
        {
          "output_type": "execute_result",
          "data": {
            "text/plain": [
              "<keras.callbacks.History at 0x7f21fbba7610>"
            ]
          },
          "metadata": {},
          "execution_count": 10
        }
      ]
    },
    {
      "cell_type": "code",
      "metadata": {
        "id": "kBs9Lb7av8KN"
      },
      "source": [
        ""
      ],
      "id": "kBs9Lb7av8KN",
      "execution_count": null,
      "outputs": []
    }
  ]
}