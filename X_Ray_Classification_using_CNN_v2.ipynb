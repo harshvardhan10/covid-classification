{
  "nbformat": 4,
  "nbformat_minor": 5,
  "metadata": {
    "kernelspec": {
      "display_name": "Python 3 (ipykernel)",
      "language": "python",
      "name": "python3"
    },
    "language_info": {
      "codemirror_mode": {
        "name": "ipython",
        "version": 3
      },
      "file_extension": ".py",
      "mimetype": "text/x-python",
      "name": "python",
      "nbconvert_exporter": "python",
      "pygments_lexer": "ipython3",
      "version": "3.9.9"
    },
    "colab": {
      "name": "X-Ray Classification using CNN v2.ipynb",
      "provenance": [],
      "collapsed_sections": []
    }
  },
  "cells": [
    {
      "cell_type": "code",
      "metadata": {
        "colab": {
          "base_uri": "https://localhost:8080/"
        },
        "id": "6lGx8L8_nW_Y",
        "outputId": "23c0cf6c-639b-426e-daa9-dae2a5125076"
      },
      "source": [
        "from google.colab import drive\n",
        "drive.mount('/content/drive', force_remount=True)"
      ],
      "id": "6lGx8L8_nW_Y",
      "execution_count": 1,
      "outputs": [
        {
          "output_type": "stream",
          "name": "stdout",
          "text": [
            "Mounted at /content/drive\n"
          ]
        }
      ]
    },
    {
      "cell_type": "code",
      "metadata": {
        "id": "NR5cOGaHnqh7"
      },
      "source": [
        "!unzip \"/content/drive/MyDrive/Projects/Dataset.zip\" -d \"/content/drive/MyDrive/Projects/Dataset\""
      ],
      "id": "NR5cOGaHnqh7",
      "execution_count": null,
      "outputs": []
    },
    {
      "cell_type": "code",
      "metadata": {
        "colab": {
          "base_uri": "https://localhost:8080/"
        },
        "id": "CwuYNOchCCuB",
        "outputId": "2db38761-a47b-4935-e919-a8b553de6019"
      },
      "source": [
        "pip install split-folders"
      ],
      "id": "CwuYNOchCCuB",
      "execution_count": 4,
      "outputs": [
        {
          "output_type": "stream",
          "name": "stdout",
          "text": [
            "Requirement already satisfied: split-folders in /usr/local/lib/python3.7/dist-packages (0.4.3)\n"
          ]
        }
      ]
    },
    {
      "cell_type": "code",
      "metadata": {
        "id": "jBjU3SMrAx9z"
      },
      "source": [
        "import splitfolders"
      ],
      "id": "jBjU3SMrAx9z",
      "execution_count": 5,
      "outputs": []
    },
    {
      "cell_type": "code",
      "metadata": {
        "colab": {
          "base_uri": "https://localhost:8080/"
        },
        "id": "0rsZlQiXCRZI",
        "outputId": "fec62af8-57b4-4034-dbea-d89368640389"
      },
      "source": [
        "splitfolders.ratio(\"/content/drive/MyDrive/Projects/Dataset\", output=\"/content/drive/MyDrive/Projects/Dataset\", seed=1337, ratio=(.8, .1, .1))\n"
      ],
      "id": "0rsZlQiXCRZI",
      "execution_count": 6,
      "outputs": [
        {
          "output_type": "stream",
          "name": "stderr",
          "text": [
            "Copying files: 13808 files [04:36, 50.00 files/s]\n"
          ]
        }
      ]
    },
    {
      "cell_type": "code",
      "metadata": {
        "id": "7d1efbc8"
      },
      "source": [
        "#importing necessary libraries\n",
        "import warnings\n",
        "warnings.filterwarnings(\"ignore\")\n",
        "import numpy as np\n",
        "import matplotlib.pyplot as plt\n",
        "import keras\n",
        "from keras.layers import Dense, Conv2D, MaxPool2D, Dropout, Flatten\n",
        "from keras.models import Sequential\n",
        "from keras.preprocessing import image"
      ],
      "id": "7d1efbc8",
      "execution_count": 7,
      "outputs": []
    },
    {
      "cell_type": "code",
      "metadata": {
        "colab": {
          "base_uri": "https://localhost:8080/"
        },
        "id": "osLAT9kToXHt",
        "outputId": "22d0912e-a392-4f90-b24f-206f0927e8e2"
      },
      "source": [
        "#Data Augmentation\n",
        "train_datagen = image.ImageDataGenerator(rescale=1/255, horizontal_flip=True, zoom_range=0.2)\n",
        "train_data = train_datagen.flow_from_directory(directory=\"/content/drive/MyDrive/Projects/Dataset/train\", \n",
        "                                               target_size=(256, 256), batch_size=16, class_mode='binary')\n"
      ],
      "id": "osLAT9kToXHt",
      "execution_count": 8,
      "outputs": [
        {
          "output_type": "stream",
          "name": "stdout",
          "text": [
            "Found 11045 images belonging to 2 classes.\n"
          ]
        }
      ]
    },
    {
      "cell_type": "code",
      "metadata": {
        "colab": {
          "base_uri": "https://localhost:8080/"
        },
        "id": "cYgfSE3ptZsr",
        "outputId": "6604cd41-60d4-4a1d-fb8f-6ac38ab4ba6f"
      },
      "source": [
        "train_data.class_indices"
      ],
      "id": "cYgfSE3ptZsr",
      "execution_count": 9,
      "outputs": [
        {
          "output_type": "execute_result",
          "data": {
            "text/plain": [
              "{'COVID': 0, 'Normal': 1}"
            ]
          },
          "metadata": {},
          "execution_count": 9
        }
      ]
    },
    {
      "cell_type": "code",
      "metadata": {
        "colab": {
          "base_uri": "https://localhost:8080/"
        },
        "id": "8tmTzfZvtryd",
        "outputId": "0851108c-b7f7-429a-89c5-70c7ca8d8a7d"
      },
      "source": [
        "val_datagen = image.ImageDataGenerator(rescale=1/255)\n",
        "val_data = train_datagen.flow_from_directory(directory=\"/content/drive/MyDrive/Projects/Dataset/val\", \n",
        "                                             target_size=(256, 256), batch_size=16, class_mode='binary')"
      ],
      "id": "8tmTzfZvtryd",
      "execution_count": 10,
      "outputs": [
        {
          "output_type": "stream",
          "name": "stdout",
          "text": [
            "Found 1380 images belonging to 2 classes.\n"
          ]
        }
      ]
    },
    {
      "cell_type": "code",
      "metadata": {
        "colab": {
          "base_uri": "https://localhost:8080/"
        },
        "id": "VCfHkDUiufG2",
        "outputId": "f5e64154-0413-4b8b-a639-df306c0f1228"
      },
      "source": [
        "val_data.class_indices"
      ],
      "id": "VCfHkDUiufG2",
      "execution_count": 11,
      "outputs": [
        {
          "output_type": "execute_result",
          "data": {
            "text/plain": [
              "{'COVID': 0, 'Normal': 1}"
            ]
          },
          "metadata": {},
          "execution_count": 11
        }
      ]
    },
    {
      "cell_type": "code",
      "metadata": {
        "id": "kUCeqFmjulW0"
      },
      "source": [
        "model = Sequential()\n",
        "model.add(Conv2D(filters=32, kernel_size=(3,3), activation='relu', input_shape=(256, 256, 3)))\n",
        "model.add(Conv2D(filters=64, kernel_size=(3,3), activation='relu'))\n",
        "model.add(MaxPool2D())\n",
        "model.add(Dropout(0.25))\n",
        "\n",
        "model.add(Conv2D(filters=64, kernel_size=(3,3), activation='relu'))\n",
        "model.add(MaxPool2D())\n",
        "model.add(Dropout(0.25))\n",
        "\n",
        "model.add(Conv2D(filters=128, kernel_size=(3,3), activation='relu'))\n",
        "model.add(MaxPool2D())\n",
        "model.add(Dropout(0.25))\n",
        "\n",
        "model.add(Flatten())\n",
        "model.add(Dense(64, activation='relu'))\n",
        "model.add(Dropout(0.5))\n",
        "model.add(Dense(1, activation='sigmoid'))\n"
      ],
      "id": "kUCeqFmjulW0",
      "execution_count": 12,
      "outputs": []
    },
    {
      "cell_type": "code",
      "metadata": {
        "id": "a1el-mWyv7__"
      },
      "source": [
        "model.compile(loss='binary_crossentropy', optimizer='adam', metrics=['accuracy'])"
      ],
      "id": "a1el-mWyv7__",
      "execution_count": 13,
      "outputs": []
    },
    {
      "cell_type": "code",
      "metadata": {
        "colab": {
          "base_uri": "https://localhost:8080/"
        },
        "id": "LqwFgbi7v8En",
        "outputId": "ea14fdc7-48e6-47ea-dd83-9c43ac81636f"
      },
      "source": [
        "model.summary()"
      ],
      "id": "LqwFgbi7v8En",
      "execution_count": 14,
      "outputs": [
        {
          "output_type": "stream",
          "name": "stdout",
          "text": [
            "Model: \"sequential\"\n",
            "_________________________________________________________________\n",
            " Layer (type)                Output Shape              Param #   \n",
            "=================================================================\n",
            " conv2d (Conv2D)             (None, 254, 254, 32)      896       \n",
            "                                                                 \n",
            " conv2d_1 (Conv2D)           (None, 252, 252, 64)      18496     \n",
            "                                                                 \n",
            " max_pooling2d (MaxPooling2D  (None, 126, 126, 64)     0         \n",
            " )                                                               \n",
            "                                                                 \n",
            " dropout (Dropout)           (None, 126, 126, 64)      0         \n",
            "                                                                 \n",
            " conv2d_2 (Conv2D)           (None, 124, 124, 64)      36928     \n",
            "                                                                 \n",
            " max_pooling2d_1 (MaxPooling  (None, 62, 62, 64)       0         \n",
            " 2D)                                                             \n",
            "                                                                 \n",
            " dropout_1 (Dropout)         (None, 62, 62, 64)        0         \n",
            "                                                                 \n",
            " conv2d_3 (Conv2D)           (None, 60, 60, 128)       73856     \n",
            "                                                                 \n",
            " max_pooling2d_2 (MaxPooling  (None, 30, 30, 128)      0         \n",
            " 2D)                                                             \n",
            "                                                                 \n",
            " dropout_2 (Dropout)         (None, 30, 30, 128)       0         \n",
            "                                                                 \n",
            " flatten (Flatten)           (None, 115200)            0         \n",
            "                                                                 \n",
            " dense (Dense)               (None, 64)                7372864   \n",
            "                                                                 \n",
            " dropout_3 (Dropout)         (None, 64)                0         \n",
            "                                                                 \n",
            " dense_1 (Dense)             (None, 1)                 65        \n",
            "                                                                 \n",
            "=================================================================\n",
            "Total params: 7,503,105\n",
            "Trainable params: 7,503,105\n",
            "Non-trainable params: 0\n",
            "_________________________________________________________________\n"
          ]
        }
      ]
    },
    {
      "cell_type": "code",
      "metadata": {
        "colab": {
          "base_uri": "https://localhost:8080/"
        },
        "id": "i-1K_-kyv8HF",
        "outputId": "d92b0d79-935c-4134-8aa8-862cc38cc90b"
      },
      "source": [
        "model.fit_generator(train_data, steps_per_epoch=8, epochs=10, validation_data=val_data)"
      ],
      "id": "i-1K_-kyv8HF",
      "execution_count": 15,
      "outputs": [
        {
          "output_type": "stream",
          "name": "stdout",
          "text": [
            "Epoch 1/10\n",
            "8/8 [==============================] - 196s 27s/step - loss: 0.7181 - accuracy: 0.5938 - val_loss: 0.6437 - val_accuracy: 0.7384\n",
            "Epoch 2/10\n",
            "8/8 [==============================] - 251s 35s/step - loss: 0.6525 - accuracy: 0.7109 - val_loss: 0.6499 - val_accuracy: 0.7384\n",
            "Epoch 3/10\n",
            "8/8 [==============================] - 200s 28s/step - loss: 0.6447 - accuracy: 0.6875 - val_loss: 0.6422 - val_accuracy: 0.7384\n",
            "Epoch 4/10\n",
            "8/8 [==============================] - 195s 27s/step - loss: 0.6077 - accuracy: 0.7578 - val_loss: 0.6089 - val_accuracy: 0.7384\n",
            "Epoch 5/10\n",
            "8/8 [==============================] - 191s 26s/step - loss: 0.5974 - accuracy: 0.7422 - val_loss: 0.6116 - val_accuracy: 0.7384\n",
            "Epoch 6/10\n",
            "8/8 [==============================] - 194s 27s/step - loss: 0.6484 - accuracy: 0.6562 - val_loss: 0.6162 - val_accuracy: 0.7384\n",
            "Epoch 7/10\n",
            "8/8 [==============================] - 194s 27s/step - loss: 0.5454 - accuracy: 0.8047 - val_loss: 0.5713 - val_accuracy: 0.7384\n",
            "Epoch 8/10\n",
            "8/8 [==============================] - 191s 26s/step - loss: 0.6237 - accuracy: 0.7266 - val_loss: 0.5734 - val_accuracy: 0.7384\n",
            "Epoch 9/10\n",
            "8/8 [==============================] - 197s 27s/step - loss: 0.6153 - accuracy: 0.6875 - val_loss: 0.6081 - val_accuracy: 0.7384\n",
            "Epoch 10/10\n",
            "8/8 [==============================] - 194s 27s/step - loss: 0.6137 - accuracy: 0.6953 - val_loss: 0.5683 - val_accuracy: 0.7384\n"
          ]
        },
        {
          "output_type": "execute_result",
          "data": {
            "text/plain": [
              "<keras.callbacks.History at 0x7f96aacf5d90>"
            ]
          },
          "metadata": {},
          "execution_count": 15
        }
      ]
    },
    {
      "cell_type": "code",
      "metadata": {
        "id": "kBs9Lb7av8KN"
      },
      "source": [
        ""
      ],
      "id": "kBs9Lb7av8KN",
      "execution_count": null,
      "outputs": []
    }
  ]
}